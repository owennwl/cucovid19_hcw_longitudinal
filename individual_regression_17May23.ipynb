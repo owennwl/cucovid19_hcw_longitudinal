{
 "cells": [
  {
   "cell_type": "code",
   "execution_count": 3,
   "id": "56b7d0ae",
   "metadata": {},
   "outputs": [
    {
     "name": "stderr",
     "output_type": "stream",
     "text": [
      "/Users/owenleung/opt/anaconda3/lib/python3.7/site-packages/statsmodels/tsa/tsatools.py:142: FutureWarning: In a future version of pandas all arguments of concat except for the argument 'objs' will be keyword-only\n",
      "  x = pd.concat(x[::order], 1)\n"
     ]
    }
   ],
   "source": [
    "import pandas as pd\n",
    "import statsmodels.api as sm\n",
    "\n",
    "# Read the data from the CSV file\n",
    "data = pd.read_csv('dataset.csv')\n",
    "\n",
    "# Prepare an empty DataFrame to store the intercepts and slopes\n",
    "results = pd.DataFrame(columns=['ID', 'intercept_work_stress', 'slope_work_stress', 'intercept_transmission_worries', 'slope_transmission_worries'])\n",
    "\n",
    "# Function to perform individual regression and return intercept and slope\n",
    "def perform_regression(participant_data, variable):\n",
    "    X = participant_data['time']\n",
    "    y = participant_data[variable]\n",
    "    X = sm.add_constant(X)\n",
    "    model = sm.OLS(y, X).fit()\n",
    "    return model.params['const'], model.params['time']\n",
    "\n",
    "# Perform individual regression for each participant\n",
    "unique_ids = data['id'].unique()\n",
    "for participant_id in unique_ids:\n",
    "    participant_data = data[data['id'] == participant_id]\n",
    "    \n",
    "    # Work stress\n",
    "    intercept_ws, slope_ws = perform_regression(participant_data, 'workplace_difficulty')\n",
    "    \n",
    "    # Transmission worries\n",
    "    intercept_tw, slope_tw = perform_regression(participant_data, 'infection_worries')\n",
    "    \n",
    "    results = results.append({'ID': participant_id, 'intercept_work_stress': intercept_ws, 'slope_work_stress': slope_ws, 'intercept_transmission_worries': intercept_tw, 'slope_transmission_worries': slope_tw}, ignore_index=True)\n",
    "\n",
    "# Save the intercepts and slopes to a new CSV file\n",
    "results.to_csv('intercepts_slopes.csv', index=False)"
   ]
  }
 ],
 "metadata": {
  "kernelspec": {
   "display_name": "Python 3",
   "language": "python",
   "name": "python3"
  },
  "language_info": {
   "codemirror_mode": {
    "name": "ipython",
    "version": 3
   },
   "file_extension": ".py",
   "mimetype": "text/x-python",
   "name": "python",
   "nbconvert_exporter": "python",
   "pygments_lexer": "ipython3",
   "version": "3.7.4"
  }
 },
 "nbformat": 4,
 "nbformat_minor": 5
}
